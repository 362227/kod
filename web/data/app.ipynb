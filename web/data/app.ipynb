import subprocess
import shlex

import ipywidgets as widgets
from IPython.display import display, clear_output

def download_video(url, options):
    """
    Download video using yt-dlp
    """
    # Escape options for shell command
    options_str = shlex.quote(options)
    command = f"yt-dlp {options_str} {url}"
    print("Running command:", command)
    process = subprocess.Popen(
        command,
        shell=True,
        stdout=subprocess.PIPE,
        stderr=subprocess.STDOUT,
    )
    for line in process.stdout:
        line = line.decode().strip()
        print(line)
    
    if process.returncode != 0:
        raise subprocess.CalledProcessError(process.returncode, command)

# Define input widgets
url_input = widgets.Text(
    placeholder="Enter video URL",
    description="URL:",
    layout={"width": "500px"},
)
options_input = widgets.Text(
    placeholder="Enter options",
    description="Options:",
    layout={"width": "500px"},
)

# Define action button
button = widgets.Button(
    description="Download video",
    button_style="primary",
    layout={"width": "150px"},
)

# Define output widget
output = widgets.Output(layout={"border": "1px solid black"})

# Define action function for button
def on_button_clicked(b):
    with output:
        clear_output()
        url = url_input.value
        options = options_input.value
        download_video(url, options)

# Attach action function to button
button.on_click(on_button_clicked)

# Define layout using VBox
layout = widgets.VBox([url_input, options_input, button, output])

# Display layout
display(layout)
