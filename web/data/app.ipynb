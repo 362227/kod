{
  "nbformat": 4,
  "nbformat_minor": 0,
  "metadata": {
    "colab": {
      "provenance": []
    },
    "kernelspec": {
      "name": "python3",
      "display_name": "Python 3"
    },
    "language_info": {
      "name": "python"
    }
  },
  "cells": [
    {
      "cell_type": "code",
      "execution_count": null,
      "metadata": {
        "id": "V3G8xMIxOvFz"
      },
      "outputs": [],
      "source": [
        "import subprocess\n",
        "import shlex\n",
        "\n",
        "import ipywidgets as widgets\n",
        "from IPython.display import display, clear_output\n",
        "\n",
        "def download_video(url, options):\n",
        "    \"\"\"\n",
        "    Download video using yt-dlp\n",
        "    \"\"\"\n",
        "    # Escape options for shell command\n",
        "    options_str = shlex.quote(options)\n",
        "    command = f\"yt-dlp {options_str} {url}\"\n",
        "    print(\"Running command:\", command)\n",
        "    process = subprocess.Popen(\n",
        "        command,\n",
        "        shell=True,\n",
        "        stdout=subprocess.PIPE,\n",
        "        stderr=subprocess.STDOUT,\n",
        "    )\n",
        "    for line in process.stdout:\n",
        "        line = line.decode().strip()\n",
        "        print(line)\n",
        "    \n",
        "    if process.returncode != 0:\n",
        "        raise subprocess.CalledProcessError(process.returncode, command)\n",
        "\n",
        "# Define input widgets\n",
        "url_input = widgets.Text(\n",
        "    placeholder=\"Enter video URL\",\n",
        "    description=\"URL:\",\n",
        "    layout={\"width\": \"500px\"},\n",
        ")\n",
        "options_input = widgets.Text(\n",
        "    placeholder=\"Enter options\",\n",
        "    description=\"Options:\",\n",
        "    layout={\"width\": \"500px\"},\n",
        ")\n",
        "\n",
        "# Define action button\n",
        "button = widgets.Button(\n",
        "    description=\"Download video\",\n",
        "    button_style=\"primary\",\n",
        "    layout={\"width\": \"150px\"},\n",
        ")\n",
        "\n",
        "# Define output widget\n",
        "output = widgets.Output(layout={\"border\": \"1px solid black\"})\n",
        "\n",
        "# Define action function for button\n",
        "def on_button_clicked(b):\n",
        "    with output:\n",
        "        clear_output()\n",
        "        url = url_input.value\n",
        "        options = options_input.value\n",
        "        download_video(url, options)\n",
        "\n",
        "# Attach action function to button\n",
        "button.on_click(on_button_clicked)\n",
        "\n",
        "# Define layout using VBox\n",
        "layout = widgets.VBox([url_input, options_input, button, output])\n",
        "\n",
        "# Display layout\n",
        "display(layout)\n"
      ]
    }
  ]
}
